{
 "cells": [
  {
   "cell_type": "code",
   "execution_count": 1,
   "id": "a87c8e3a",
   "metadata": {},
   "outputs": [],
   "source": [
    "import numpy as np\n",
    "from sklearn import datasets\n",
    "from sklearn.linear_model import LogisticRegression\n",
    "from sklearn.model_selection import train_test_split\n",
    "\n",
    "import pandas as pd\n",
    "\n",
    "import matplotlib.pyplot as plt\n",
    "\n",
    "#TDA packages\n",
    "from ripser import Rips\n",
    "from persim import PersImage\n",
    "from persim import PersistenceImager"
   ]
  },
  {
   "cell_type": "markdown",
   "id": "72cb9173",
   "metadata": {},
   "source": [
    "<b>Read Muse data</b> (data from: https://github.com/jordan-bird/eeg-feature-generation/tree/master/dataset/original_data)"
   ]
  },
  {
   "cell_type": "code",
   "execution_count": 12,
   "id": "83a8083d",
   "metadata": {
    "scrolled": true
   },
   "outputs": [
    {
     "name": "stdout",
     "output_type": "stream",
     "text": [
      "[0. 0. 0. 0. 0. 0. 0. 0. 0. 0. 0. 0. 0. 0. 0. 0. 0. 0. 0. 0. 0. 0. 0. 0.\n",
      " 0. 0. 0. 0. 0. 0. 0. 0. 0. 0. 0. 0. 0. 0. 0. 0. 1. 1. 1. 1. 1. 1. 1. 1.\n",
      " 1. 1. 1. 1. 1. 1. 1. 1. 1. 1. 1. 1. 1. 1. 1. 1. 1. 1. 1. 1. 1. 1. 1. 1.\n",
      " 1. 1. 1. 1. 1. 1. 1. 1.]\n"
     ]
    }
   ],
   "source": [
    "# Data from two different people\n",
    "relaxed_data = pd.read_csv(\"./eeg-data/relaxed/2.txt\")\n",
    "relaxed_data_TP9 = relaxed_data.TP9[0:2000]\n",
    "relaxed_data_TP10 = relaxed_data.TP10[0:2000]\n",
    "relaxed_data_AF7 = relaxed_data.AF7[0:2000]\n",
    "relaxed_data_AF8 = relaxed_data.AF8[0:2000]\n",
    "\n",
    "concentrated_data = pd.read_csv(\"./eeg-data/concentrated/1.txt\")\n",
    "concentrated_data_TP9 = concentrated_data.TP9[0:2000]\n",
    "concentrated_data_TP10 = concentrated_data.TP10[0:2000]\n",
    "concentrated_data_AF7 = concentrated_data.AF7[0:2000]\n",
    "concentrated_data_AF8 = concentrated_data.AF8[0:2000]\n",
    "\n",
    "# embed relaxed EEG data into 4 dimensional \"electrode space\"\n",
    "relaxed = []\n",
    "start = 0\n",
    "end = 50\n",
    "\n",
    "# create 3D matrix: [ [[TP9, TP10, AF7, AF8], ..., [TP9, TP10, AF7, AF8]], ... ] \n",
    "# 50 samples per epoch\n",
    "for index in range(0, 40):\n",
    "    rel_data = []\n",
    "    for i in range(start, end):\n",
    "        rel_data.append([relaxed_data_TP9.values[i], relaxed_data_TP10.values[i], relaxed_data_AF7.values[i], relaxed_data_AF8.values[i]])\n",
    "    start = start + 50\n",
    "    end = end + 50   \n",
    "    relaxed.append(np.array(rel_data).copy())\n",
    "\n",
    "\n",
    "# embed concentrated EEG data into 4 dimensional \"electrode space\"\n",
    "concentrated = []\n",
    "start = 0\n",
    "end = 50\n",
    "\n",
    "# create 3D matrix: [ [ [TP9, TP10, AF7, AF8], ..., [TP9, TP10, AF7, AF8] ], ... ] \n",
    "# 50 samples per epoch\n",
    "for index in range(0, 40):\n",
    "    con_data = []\n",
    "    for i in range(start, end):\n",
    "        con_data.append([concentrated_data_TP9.values[i], concentrated_data_TP10.values[i], concentrated_data_AF7.values[i], concentrated_data_AF8.values[i]])\n",
    "    start = start + 50\n",
    "    end = end + 50   \n",
    "    concentrated.append(np.array(con_data).copy())\n",
    "\n",
    "    \n",
    "# combine data and put in correct format for rips algo\n",
    "dataSet = []\n",
    "dataSet.extend(relaxed)\n",
    "dataSet.extend(concentrated)\n",
    "dataMatrix = np.empty((80,50,4))\n",
    "dataMatrix = np.array(dataSet, dtype=\"object\")\n",
    "\n",
    "# Define labels\n",
    "labels = np.zeros(80)\n",
    "labels[40:] = 1\n",
    "\n",
    "print(labels)"
   ]
  },
  {
   "cell_type": "markdown",
   "id": "97c658fb",
   "metadata": {},
   "source": [
    "<b>Visualize H0/H1 persistent homology using ripser persistence diagrams</b>"
   ]
  },
  {
   "cell_type": "code",
   "execution_count": 3,
   "id": "10c46e5f",
   "metadata": {},
   "outputs": [
    {
     "name": "stdout",
     "output_type": "stream",
     "text": [
      "Rips(maxdim=1, thresh=inf, coeff=2, do_cocycles=False, n_perm = None, verbose=True)\n"
     ]
    }
   ],
   "source": [
    "rips = Rips(maxdim=1, coeff=2)\n",
    "diagrams = [rips.fit_transform(data) for data in dataMatrix]\n",
    "diagrams_h1 = [rips.fit_transform(data)[1] for data in dataMatrix]"
   ]
  },
  {
   "cell_type": "code",
   "execution_count": 4,
   "id": "d5843f89",
   "metadata": {},
   "outputs": [
    {
     "data": {
      "image/png": "[encoded data removed]",
      "text/plain": [
       "<Figure size 864x432 with 2 Axes>"
      ]
     },
     "metadata": {
      "needs_background": "light"
     },
     "output_type": "display_data"
    }
   ],
   "source": [
    "plt.figure(figsize=(12,6))\n",
    "plt.subplot(121)\n",
    "\n",
    "rips.plot(diagrams[0], show=False)\n",
    "plt.title(\"PD of $H_1$\")\n",
    "\n",
    "plt.subplot(122)\n",
    "rips.plot(diagrams[-1], show=False)\n",
    "plt.title(\"PD of $H_1$\")\n",
    "\n",
    "plt.show()"
   ]
  },
  {
   "cell_type": "markdown",
   "id": "0c983e85",
   "metadata": {},
   "source": [
    "<b>Compute persistence images of H1 persistence diagrams</b>"
   ]
  },
  {
   "cell_type": "code",
   "execution_count": 5,
   "id": "d96ba35f",
   "metadata": {},
   "outputs": [],
   "source": [
    "pimgr = PersistenceImager(pixel_size=1)\n",
    "pimgr.fit(diagrams_h1)\n",
    "imgs = pimgr.transform(diagrams_h1)"
   ]
  },
  {
   "cell_type": "code",
   "execution_count": 6,
   "id": "07b59783",
   "metadata": {},
   "outputs": [
    {
     "data": {
      "text/plain": [
       "PersistenceImager(birth_range=(5.831792593002319, 46.83179259300232), pers_range=(-0.22007989883422852, 11.779920101165771), pixel_size=1, weight=persistence, weight_params={'n': 1.0}, kernel=gaussian, kernel_params={'sigma': [[1.0, 0.0], [0.0, 1.0]]})"
      ]
     },
     "execution_count": 6,
     "metadata": {},
     "output_type": "execute_result"
    }
   ],
   "source": [
    "pimgr"
   ]
  },
  {
   "cell_type": "markdown",
   "id": "617f985c",
   "metadata": {},
   "source": [
    "<b>Plot persistence images for a subset of diagrams</b>"
   ]
  },
  {
   "cell_type": "code",
   "execution_count": 7,
   "id": "f586cc53",
   "metadata": {},
   "outputs": [
    {
     "data": {
      "image/png": "[encoded data removed]",
      "text/plain": [
       "<Figure size 1500x750 with 8 Axes>"
      ]
     },
     "metadata": {},
     "output_type": "display_data"
    }
   ],
   "source": [
    "plt.figure(figsize=(15,7.5))\n",
    "\n",
    "for i in range(4):\n",
    "    ax = plt.subplot(240+i+1)\n",
    "    pimgr.plot_image(imgs[i], ax)\n",
    "    plt.title(\"Persistence Imgs of $H_1$ for rel\")\n",
    "\n",
    "for i in range(4):\n",
    "    ax = plt.subplot(240+i+5)\n",
    "    pimgr.plot_image(imgs[-(i+1)], ax)\n",
    "    plt.title(\"Persistence Imgs of $H_1$ for con\")"
   ]
  },
  {
   "cell_type": "markdown",
   "id": "98ca4b4d",
   "metadata": {},
   "source": [
    "<b>Vectorize persistence images</b>"
   ]
  },
  {
   "cell_type": "code",
   "execution_count": 8,
   "id": "e768a19a",
   "metadata": {},
   "outputs": [],
   "source": [
    "imgs_array = np.array([img.flatten() for img in imgs])"
   ]
  },
  {
   "cell_type": "markdown",
   "id": "c6b2fb67",
   "metadata": {},
   "source": [
    "<b>Split data (60% train, 40% test)</b>"
   ]
  },
  {
   "cell_type": "code",
   "execution_count": 9,
   "id": "6a48aaf0",
   "metadata": {},
   "outputs": [],
   "source": [
    "X_train, X_test, y_train, y_test = train_test_split(imgs_array, labels, test_size=0.40, random_state=42)\n"
   ]
  },
  {
   "cell_type": "markdown",
   "id": "b023866f",
   "metadata": {},
   "source": [
    "<b>Train logistic regression classifier on vectorized persistence images</b>"
   ]
  },
  {
   "cell_type": "code",
   "execution_count": 10,
   "id": "8f4a9cf6",
   "metadata": {},
   "outputs": [
    {
     "data": {
      "text/html": [
       "<style>#sk-container-id-1 {color: black;background-color: white;}#sk-container-id-1 pre{padding: 0;}#sk-container-id-1 div.sk-toggleable {background-color: white;}#sk-container-id-1 label.sk-toggleable__label {cursor: pointer;display: block;width: 100%;margin-bottom: 0;padding: 0.3em;box-sizing: border-box;text-align: center;}#sk-container-id-1 label.sk-toggleable__label-arrow:before {content: \"▸\";float: left;margin-right: 0.25em;color: #696969;}#sk-container-id-1 label.sk-toggleable__label-arrow:hover:before {color: black;}#sk-container-id-1 div.sk-estimator:hover label.sk-toggleable__label-arrow:before {color: black;}#sk-container-id-1 div.sk-toggleable__content {max-height: 0;max-width: 0;overflow: hidden;text-align: left;background-color: #f0f8ff;}#sk-container-id-1 div.sk-toggleable__content pre {margin: 0.2em;color: black;border-radius: 0.25em;background-color: #f0f8ff;}#sk-container-id-1 input.sk-toggleable__control:checked~div.sk-toggleable__content {max-height: 200px;max-width: 100%;overflow: auto;}#sk-container-id-1 input.sk-toggleable__control:checked~label.sk-toggleable__label-arrow:before {content: \"▾\";}#sk-container-id-1 div.sk-estimator input.sk-toggleable__control:checked~label.sk-toggleable__label {background-color: #d4ebff;}#sk-container-id-1 div.sk-label input.sk-toggleable__control:checked~label.sk-toggleable__label {background-color: #d4ebff;}#sk-container-id-1 input.sk-hidden--visually {border: 0;clip: rect(1px 1px 1px 1px);clip: rect(1px, 1px, 1px, 1px);height: 1px;margin: -1px;overflow: hidden;padding: 0;position: absolute;width: 1px;}#sk-container-id-1 div.sk-estimator {font-family: monospace;background-color: #f0f8ff;border: 1px dotted black;border-radius: 0.25em;box-sizing: border-box;margin-bottom: 0.5em;}#sk-container-id-1 div.sk-estimator:hover {background-color: #d4ebff;}#sk-container-id-1 div.sk-parallel-item::after {content: \"\";width: 100%;border-bottom: 1px solid gray;flex-grow: 1;}#sk-container-id-1 div.sk-label:hover label.sk-toggleable__label {background-color: #d4ebff;}#sk-container-id-1 div.sk-serial::before {content: \"\";position: absolute;border-left: 1px solid gray;box-sizing: border-box;top: 0;bottom: 0;left: 50%;z-index: 0;}#sk-container-id-1 div.sk-serial {display: flex;flex-direction: column;align-items: center;background-color: white;padding-right: 0.2em;padding-left: 0.2em;position: relative;}#sk-container-id-1 div.sk-item {position: relative;z-index: 1;}#sk-container-id-1 div.sk-parallel {display: flex;align-items: stretch;justify-content: center;background-color: white;position: relative;}#sk-container-id-1 div.sk-item::before, #sk-container-id-1 div.sk-parallel-item::before {content: \"\";position: absolute;border-left: 1px solid gray;box-sizing: border-box;top: 0;bottom: 0;left: 50%;z-index: -1;}#sk-container-id-1 div.sk-parallel-item {display: flex;flex-direction: column;z-index: 1;position: relative;background-color: white;}#sk-container-id-1 div.sk-parallel-item:first-child::after {align-self: flex-end;width: 50%;}#sk-container-id-1 div.sk-parallel-item:last-child::after {align-self: flex-start;width: 50%;}#sk-container-id-1 div.sk-parallel-item:only-child::after {width: 0;}#sk-container-id-1 div.sk-dashed-wrapped {border: 1px dashed gray;margin: 0 0.4em 0.5em 0.4em;box-sizing: border-box;padding-bottom: 0.4em;background-color: white;}#sk-container-id-1 div.sk-label label {font-family: monospace;font-weight: bold;display: inline-block;line-height: 1.2em;}#sk-container-id-1 div.sk-label-container {text-align: center;}#sk-container-id-1 div.sk-container {/* jupyter's `normalize.less` sets `[hidden] { display: none; }` but bootstrap.min.css set `[hidden] { display: none !important; }` so we also need the `!important` here to be able to override the default hidden behavior on the sphinx rendered scikit-learn.org. See: https://github.com/scikit-learn/scikit-learn/issues/21755 */display: inline-block !important;position: relative;}#sk-container-id-1 div.sk-text-repr-fallback {display: none;}</style><div id=\"sk-container-id-1\" class=\"sk-top-container\"><div class=\"sk-text-repr-fallback\"><pre>LogisticRegression()</pre><b>In a Jupyter environment, please rerun this cell to show the HTML representation or trust the notebook. <br />On GitHub, the HTML representation is unable to render, please try loading this page with nbviewer.org.</b></div><div class=\"sk-container\" hidden><div class=\"sk-item\"><div class=\"sk-estimator sk-toggleable\"><input class=\"sk-toggleable__control sk-hidden--visually\" id=\"sk-estimator-id-1\" type=\"checkbox\" checked><label for=\"sk-estimator-id-1\" class=\"sk-toggleable__label sk-toggleable__label-arrow\">LogisticRegression</label><div class=\"sk-toggleable__content\"><pre>LogisticRegression()</pre></div></div></div></div></div>"
      ],
      "text/plain": [
       "LogisticRegression()"
      ]
     },
     "execution_count": 10,
     "metadata": {},
     "output_type": "execute_result"
    }
   ],
   "source": [
    "lr = LogisticRegression()\n",
    "lr.fit(X_train, y_train)"
   ]
  },
  {
   "cell_type": "code",
   "execution_count": 11,
   "id": "6a9650a9",
   "metadata": {},
   "outputs": [
    {
     "data": {
      "text/plain": [
       "1.0"
      ]
     },
     "execution_count": 11,
     "metadata": {},
     "output_type": "execute_result"
    }
   ],
   "source": [
    "lr.score(X_test, y_test)"
   ]
  },
  {
   "cell_type": "code",
   "execution_count": null,
   "id": "14d483eb",
   "metadata": {},
   "outputs": [],
   "source": []
  },
  {
   "cell_type": "code",
   "execution_count": null,
   "id": "40083e51",
   "metadata": {},
   "outputs": [],
   "source": []
  },
  {
   "cell_type": "code",
   "execution_count": null,
   "id": "05c7bb5a",
   "metadata": {},
   "outputs": [],
   "source": []
  }
 ],
 "metadata": {
  "kernelspec": {
   "display_name": "Python 3 (ipykernel)",
   "language": "python",
   "name": "python3"
  },
  "language_info": {
   "codemirror_mode": {
    "name": "ipython",
    "version": 3
   },
   "file_extension": ".py",
   "mimetype": "text/x-python",
   "name": "python",
   "nbconvert_exporter": "python",
   "pygments_lexer": "ipython3",
   "version": "3.8.5"
  }
 },
 "nbformat": 4,
 "nbformat_minor": 5
}
